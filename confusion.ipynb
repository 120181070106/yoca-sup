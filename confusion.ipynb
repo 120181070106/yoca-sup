{
 "cells": [
  {
   "cell_type": "code",
   "execution_count": 9,
   "id": "0b32c3e5-806b-4a30-a898-c66fc20dfbb0",
   "metadata": {},
   "outputs": [
    {
     "name": "stdout",
     "output_type": "stream",
     "text": [
      "[[32  7  1  0  0  0]\n",
      " [ 1 36  5  0  0  0]\n",
      " [ 0  2 23  4  0  0]\n",
      " [ 0  0  0 15  5  0]\n",
      " [ 0  0  0  0 15  1]\n",
      " [ 0  0  0  0  0  0]]\n"
     ]
    },
    {
     "data": {
      "image/png": "[encoded data removed]",
      "text/plain": [
       "<Figure size 432x288 with 2 Axes>"
      ]
     },
     "metadata": {
      "needs_background": "light"
     },
     "output_type": "display_data"
    }
   ],
   "source": [
    "import numpy as np\n",
    "import os #此文件放于经map.ipynb生成的map_out文件夹内，结合ground-truth和detection-result生成混淆矩阵并绘制\n",
    "import matplotlib.pyplot as plt\n",
    "def file_lines_to_list(path):\n",
    "    with open(path) as f: content = f.readlines()\n",
    "    return [x.strip().split() for x in content]\n",
    "def iou(box1, box2, eps=1e-7): # x1, y1, x2, y2 = box1\n",
    "    b1_x1, b1_y1, b1_x2, b1_y2 = box1[-4:]\n",
    "    b2_x1, b2_y1, b2_x2, b2_y2 = box2[-4:]\n",
    "    w1, h1 = b1_x2 - b1_x1, b1_y2 - b1_y1 + eps\n",
    "    w2, h2 = b2_x2 - b2_x1, b2_y2 - b2_y1 + eps\n",
    "    inter = max((min(b1_x2,b2_x2) - max(b1_x1,b2_x1)),0) * \\\n",
    "            max((min(b1_y2,b2_y2) - max(b1_y1,b2_y1)),0)\n",
    "    return inter / (w1 * h1 + w2 * h2 - inter + eps)\n",
    "\n",
    "def calculate_confusion_matrix(predict_folder, label_folder, nc, iou_thres=0.8):\n",
    "    cm = np.zeros((nc, nc), dtype=int)# 初始化混淆矩阵\n",
    "    for filename in os.listdir(label_folder):# 遍历文件夹\n",
    "        if filename.split(\".\")[1]!=\"txt\":break# 可能出现节点文件\n",
    "        predict_file = os.path.join(predict_folder, filename)\n",
    "        label_file = os.path.join(label_folder, filename)\n",
    "        predictions = file_lines_to_list(predict_file)\n",
    "        labels = file_lines_to_list(label_file)\n",
    "        matched_preds,matched_labels = set(),set()\n",
    "        for i, pred in enumerate(predictions):\n",
    "            for j, label in enumerate(labels):\n",
    "                pred = np.array([float(x) for x in pred])\n",
    "                label = np.array([float(x) for x in label])\n",
    "                if iou(pred, label) >= iou_thres:\n",
    "                    if i not in matched_preds and j not in matched_labels:\n",
    "                        cm[int(pred[0])][int(label[0])] += 1\n",
    "                        matched_preds.add(i)\n",
    "                        matched_labels.add(j)\n",
    "                        break\n",
    "#         for i, pred in enumerate(predictions):\n",
    "#             if i not in matched_preds:#对于未匹的预测和标签，记为背景类\n",
    "#                 cm[int(pred[0])][-1] += 1  # 最后一列为背景类别\n",
    "#         for j, label in enumerate(labels):\n",
    "#             if j not in matched_labels:\n",
    "#                 cm[-1][int(label[0])] += 1  # 最后一行为背景类别\n",
    "    return cm\n",
    "confusion_matrix=calculate_confusion_matrix(\"detection-results\",\"ground-truth\",6)\n",
    "confusion_matrix=np.array([[32,7,1,0,0,0],[1,36,5,0,0,0],[0,2,23,4,0,0],[0,0,0,15,5,0],[0,0,0,0,15,1],[0,0,0,0,0,0]])#改进前\n",
    "# confusion_matrix=np.array([[33,4,0,0,0,0],[0,41,1,0,0,0],[0,0,28,1,0,0],[0,0,0,18,2,0],[0,0,0,0,17,0],[0,0,0,0,0,1]])#改进后\n",
    "print(confusion_matrix)#上面一个加入类别损失前后的混淆矩阵，若后无更进一步细化则可以之作例\n",
    "\n",
    "def draw_confusion_matrix(cm, label_name, title, pdf_save_path=\"CM.png\", dpi=600): #保存到文件的分辨率，论文一般要求至少300dpi\n",
    "    plt.imshow(cm, cmap='Blues');plt.xlabel(\"predict\",size=12)  #cmap还可设为比较好看的 viridis winter\n",
    "    plt.ylabel(\"truth\",size=12);plt.title(title,size=14)#图标题\n",
    "    plt.yticks(range(label_name.__len__()), label_name,size=12, rotation=0,color =\"blue\")#标签名字，如['cat','dog',..],figsize=[200,400]\n",
    "    plt.xticks(range(label_name.__len__()),label_name,size=12,color=\"blue\")#black\n",
    "    plt.colorbar(); thresh = confusion_matrix.max() / 2. \n",
    "    for i in range(label_name.__len__()):\n",
    "        for j in range(label_name.__len__()):\n",
    "            color=\"white\" if confusion_matrix[i, j] > thresh else \"black\"  # 对角线字体白色，其他黑色\n",
    "            plt.text(i,j,cm[j,i],size=12,verticalalignment='center',horizontalalignment='center',color=color)\n",
    "    if not pdf_save_path is None:plt.savefig(pdf_save_path, bbox_inches='tight',dpi=dpi, facecolor=\"w\")\n",
    "ax1 = plt.subplot()\n",
    "# ax1.spines['left'].set_visible(False)\t#左边框线隐藏,下边则bottom..\n",
    "# ax1.xaxis.set_tick_params(left=False)#左边刻度线隐藏\n",
    "draw_confusion_matrix(confusion_matrix,[1,2,3,4,5,6],title=\"Confusion Matrix\")"
   ]
  },
  {
   "cell_type": "code",
   "execution_count": null,
   "id": "3db7863e-c4e1-4e2e-8e6e-499851d60f39",
   "metadata": {},
   "outputs": [],
   "source": []
  }
 ],
 "metadata": {
  "kernelspec": {
   "display_name": "Python 3 (ipykernel)",
   "language": "python",
   "name": "python3"
  },
  "language_info": {
   "codemirror_mode": {
    "name": "ipython",
    "version": 3
   },
   "file_extension": ".py",
   "mimetype": "text/x-python",
   "name": "python",
   "nbconvert_exporter": "python",
   "pygments_lexer": "ipython3",
   "version": "3.8.10"
  }
 },
 "nbformat": 4,
 "nbformat_minor": 5
}
